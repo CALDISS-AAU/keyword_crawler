{
 "cells": [
  {
   "cell_type": "code",
   "execution_count": 9,
   "metadata": {},
   "outputs": [],
   "source": [
    "import os\n",
    "import json\n",
    "import pandas as pd\n",
    "from urllib.parse import urlparse\n",
    "\n",
    "data_path = os.path.join(\"D:/\", \"data\", \"drmkc\")"
   ]
  },
  {
   "cell_type": "code",
   "execution_count": 21,
   "metadata": {},
   "outputs": [],
   "source": [
    "filename = \"drmkc-scrape_20210218.json\"\n",
    "\n",
    "with open(os.path.join(data_path, filename), 'r') as f:\n",
    "    data = json.load(f)"
   ]
  },
  {
   "cell_type": "code",
   "execution_count": 22,
   "metadata": {},
   "outputs": [],
   "source": [
    "for entry in data:\n",
    "    entry['links'] = [url for url in entry['links'] if \"http\" in url]\n",
    "    entry['links'] = list(set([urlparse(url).netloc for url in entry['links']]))\n",
    "    entry['url'] = urlparse(entry['url']).netloc\n",
    "    entry['links'] = [url for url in entry['links'] if url != entry['url']]"
   ]
  },
  {
   "cell_type": "code",
   "execution_count": 29,
   "metadata": {},
   "outputs": [],
   "source": [
    "df = pd.DataFrame.from_records(data)\n",
    "df = df.explode('links').loc[:, ['url', 'links']]\n",
    "df = df.drop_duplicates()"
   ]
  },
  {
   "cell_type": "code",
   "execution_count": 32,
   "metadata": {},
   "outputs": [],
   "source": [
    "outname = \"drmkc-nw_20210218.csv\"\n",
    "\n",
    "df.to_csv(os.path.join(data_path, outname), index = False)"
   ]
  },
  {
   "cell_type": "code",
   "execution_count": 10,
   "metadata": {},
   "outputs": [
    {
     "name": "stdout",
     "output_type": "stream",
     "text": [
      "drmkc.jrc.ec.europa.eu\n"
     ]
    }
   ],
   "source": [
    "domain = urlparse(data[1].get('url')).netloc\n",
    "print(domain) # --> www.example.test"
   ]
  },
  {
   "cell_type": "code",
   "execution_count": 35,
   "metadata": {},
   "outputs": [
    {
     "data": {
      "text/html": [
       "<div>\n",
       "<style scoped>\n",
       "    .dataframe tbody tr th:only-of-type {\n",
       "        vertical-align: middle;\n",
       "    }\n",
       "\n",
       "    .dataframe tbody tr th {\n",
       "        vertical-align: top;\n",
       "    }\n",
       "\n",
       "    .dataframe thead th {\n",
       "        text-align: right;\n",
       "    }\n",
       "</style>\n",
       "<table border=\"1\" class=\"dataframe\">\n",
       "  <thead>\n",
       "    <tr style=\"text-align: right;\">\n",
       "      <th></th>\n",
       "      <th>url</th>\n",
       "      <th>links</th>\n",
       "    </tr>\n",
       "  </thead>\n",
       "  <tbody>\n",
       "    <tr>\n",
       "      <th>0</th>\n",
       "      <td>drmkc.jrc.ec.europa.eu</td>\n",
       "      <td>ec.europa.eu</td>\n",
       "    </tr>\n",
       "    <tr>\n",
       "      <th>0</th>\n",
       "      <td>drmkc.jrc.ec.europa.eu</td>\n",
       "      <td>europa.eu</td>\n",
       "    </tr>\n",
       "    <tr>\n",
       "      <th>2</th>\n",
       "      <td>drmkc.jrc.ec.europa.eu</td>\n",
       "      <td>www.securityresearch-cou.eu</td>\n",
       "    </tr>\n",
       "    <tr>\n",
       "      <th>7</th>\n",
       "      <td>drmkc.jrc.ec.europa.eu</td>\n",
       "      <td>covid-statistics.jrc.ec.europa.eu</td>\n",
       "    </tr>\n",
       "    <tr>\n",
       "      <th>7</th>\n",
       "      <td>drmkc.jrc.ec.europa.eu</td>\n",
       "      <td>github.com</td>\n",
       "    </tr>\n",
       "  </tbody>\n",
       "</table>\n",
       "</div>"
      ],
      "text/plain": [
       "                      url                              links\n",
       "0  drmkc.jrc.ec.europa.eu                       ec.europa.eu\n",
       "0  drmkc.jrc.ec.europa.eu                          europa.eu\n",
       "2  drmkc.jrc.ec.europa.eu        www.securityresearch-cou.eu\n",
       "7  drmkc.jrc.ec.europa.eu  covid-statistics.jrc.ec.europa.eu\n",
       "7  drmkc.jrc.ec.europa.eu                         github.com"
      ]
     },
     "execution_count": 35,
     "metadata": {},
     "output_type": "execute_result"
    }
   ],
   "source": [
    "df.head()"
   ]
  },
  {
   "cell_type": "code",
   "execution_count": 45,
   "metadata": {},
   "outputs": [],
   "source": [
    "filename = \"drmkc-scrape_20210218.json\"\n",
    "\n",
    "with open(os.path.join(data_path, filename), 'r') as f:\n",
    "    data = json.load(f)\n",
    "    \n",
    "for entry in data:\n",
    "    entry['links'] = [url for url in entry['links'] if \"http\" in url]\n",
    "    entry['main_links'] = list(set([urlparse(url).netloc for url in entry['links']]))\n",
    "    entry['main_url'] = urlparse(entry['url']).netloc\n",
    "    entry['links'] = [url for url in entry['links'] if url != entry['url']]\n",
    "\n",
    "df = pd.DataFrame.from_records(data)\n",
    "df = df.explode('links').loc[:, ['url', 'main_url', 'links']]\n",
    "df = df.drop_duplicates()\n",
    "df = df.dropna()\n",
    "df['main_link'] = df['links'].apply(lambda url: urlparse(url).netloc)\n",
    "df = df.loc[df['main_url'] != df['main_link'], :]"
   ]
  },
  {
   "cell_type": "code",
   "execution_count": 46,
   "metadata": {},
   "outputs": [
    {
     "data": {
      "text/html": [
       "<div>\n",
       "<style scoped>\n",
       "    .dataframe tbody tr th:only-of-type {\n",
       "        vertical-align: middle;\n",
       "    }\n",
       "\n",
       "    .dataframe tbody tr th {\n",
       "        vertical-align: top;\n",
       "    }\n",
       "\n",
       "    .dataframe thead th {\n",
       "        text-align: right;\n",
       "    }\n",
       "</style>\n",
       "<table border=\"1\" class=\"dataframe\">\n",
       "  <thead>\n",
       "    <tr style=\"text-align: right;\">\n",
       "      <th></th>\n",
       "      <th>url</th>\n",
       "      <th>main_url</th>\n",
       "      <th>links</th>\n",
       "      <th>main_link</th>\n",
       "    </tr>\n",
       "  </thead>\n",
       "  <tbody>\n",
       "    <tr>\n",
       "      <th>0</th>\n",
       "      <td>https://drmkc.jrc.ec.europa.eu/</td>\n",
       "      <td>drmkc.jrc.ec.europa.eu</td>\n",
       "      <td>https://ec.europa.eu/info/index_en</td>\n",
       "      <td>ec.europa.eu</td>\n",
       "    </tr>\n",
       "    <tr>\n",
       "      <th>0</th>\n",
       "      <td>https://drmkc.jrc.ec.europa.eu/</td>\n",
       "      <td>drmkc.jrc.ec.europa.eu</td>\n",
       "      <td>https://europa.eu/european-union/contact/socia...</td>\n",
       "      <td>europa.eu</td>\n",
       "    </tr>\n",
       "    <tr>\n",
       "      <th>0</th>\n",
       "      <td>https://drmkc.jrc.ec.europa.eu/</td>\n",
       "      <td>drmkc.jrc.ec.europa.eu</td>\n",
       "      <td>https://ec.europa.eu/knowledge4policy</td>\n",
       "      <td>ec.europa.eu</td>\n",
       "    </tr>\n",
       "    <tr>\n",
       "      <th>0</th>\n",
       "      <td>https://drmkc.jrc.ec.europa.eu/</td>\n",
       "      <td>drmkc.jrc.ec.europa.eu</td>\n",
       "      <td>https://ec.europa.eu/info/resources-partners_en</td>\n",
       "      <td>ec.europa.eu</td>\n",
       "    </tr>\n",
       "    <tr>\n",
       "      <th>0</th>\n",
       "      <td>https://drmkc.jrc.ec.europa.eu/</td>\n",
       "      <td>drmkc.jrc.ec.europa.eu</td>\n",
       "      <td>https://ec.europa.eu/info/cookies_en</td>\n",
       "      <td>ec.europa.eu</td>\n",
       "    </tr>\n",
       "  </tbody>\n",
       "</table>\n",
       "</div>"
      ],
      "text/plain": [
       "                               url                main_url  \\\n",
       "0  https://drmkc.jrc.ec.europa.eu/  drmkc.jrc.ec.europa.eu   \n",
       "0  https://drmkc.jrc.ec.europa.eu/  drmkc.jrc.ec.europa.eu   \n",
       "0  https://drmkc.jrc.ec.europa.eu/  drmkc.jrc.ec.europa.eu   \n",
       "0  https://drmkc.jrc.ec.europa.eu/  drmkc.jrc.ec.europa.eu   \n",
       "0  https://drmkc.jrc.ec.europa.eu/  drmkc.jrc.ec.europa.eu   \n",
       "\n",
       "                                               links     main_link  \n",
       "0                 https://ec.europa.eu/info/index_en  ec.europa.eu  \n",
       "0  https://europa.eu/european-union/contact/socia...     europa.eu  \n",
       "0              https://ec.europa.eu/knowledge4policy  ec.europa.eu  \n",
       "0    https://ec.europa.eu/info/resources-partners_en  ec.europa.eu  \n",
       "0               https://ec.europa.eu/info/cookies_en  ec.europa.eu  "
      ]
     },
     "execution_count": 46,
     "metadata": {},
     "output_type": "execute_result"
    }
   ],
   "source": [
    "df.head()"
   ]
  },
  {
   "cell_type": "code",
   "execution_count": 47,
   "metadata": {},
   "outputs": [
    {
     "data": {
      "text/plain": [
       "126"
      ]
     },
     "execution_count": 47,
     "metadata": {},
     "output_type": "execute_result"
    }
   ],
   "source": [
    "len(list(df['links'].unique()))"
   ]
  },
  {
   "cell_type": "code",
   "execution_count": 49,
   "metadata": {},
   "outputs": [],
   "source": [
    "start_urls = list(df['links'].unique())"
   ]
  },
  {
   "cell_type": "code",
   "execution_count": 50,
   "metadata": {},
   "outputs": [],
   "source": [
    "outname = \"drmkc_links.txt\"\n",
    "with open(os.path.join(\"..\", outname), 'w', encoding = 'utf-8') as f:\n",
    "    for url in start_urls:\n",
    "        f.write(url + \"\\n\")\n",
    "    f.close()\n"
   ]
  },
  {
   "cell_type": "code",
   "execution_count": null,
   "metadata": {},
   "outputs": [],
   "source": []
  }
 ],
 "metadata": {
  "kernelspec": {
   "display_name": "Python 3",
   "language": "python",
   "name": "python3"
  },
  "language_info": {
   "codemirror_mode": {
    "name": "ipython",
    "version": 3
   },
   "file_extension": ".py",
   "mimetype": "text/x-python",
   "name": "python",
   "nbconvert_exporter": "python",
   "pygments_lexer": "ipython3",
   "version": "3.7.9"
  }
 },
 "nbformat": 4,
 "nbformat_minor": 4
}
