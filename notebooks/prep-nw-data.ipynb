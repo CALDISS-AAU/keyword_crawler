{
 "cells": [
  {
   "cell_type": "code",
   "execution_count": 385,
   "metadata": {},
   "outputs": [],
   "source": [
    "import os\n",
    "import json\n",
    "import pandas as pd\n",
    "from urllib.parse import urlparse\n",
    "import copy \n",
    "import ast\n",
    "\n",
    "data_path = os.path.join(\"D:/\", \"data\", \"drmkc\")"
   ]
  },
  {
   "cell_type": "code",
   "execution_count": 386,
   "metadata": {},
   "outputs": [],
   "source": [
    "filename = \"drmkc-scrape_20210218.json\"\n",
    "\n",
    "with open(os.path.join(data_path, filename), 'r') as f:\n",
    "    data = json.load(f)\n",
    "    f.close()"
   ]
  },
  {
   "cell_type": "code",
   "execution_count": 387,
   "metadata": {},
   "outputs": [],
   "source": [
    "filename = \"drr_scrape2021-03-30.json\"\n",
    "\n",
    "with open(os.path.join(data_path, filename), 'r') as f:\n",
    "    data = data + json.load(f)\n",
    "    f.close()"
   ]
  },
  {
   "cell_type": "code",
   "execution_count": 388,
   "metadata": {},
   "outputs": [],
   "source": [
    "filename = \"drr_scrape2021-04-28.json\"\n",
    "\n",
    "with open(os.path.join(data_path, filename), 'r') as f:\n",
    "    data = data + json.load(f)\n",
    "    f.close()"
   ]
  },
  {
   "cell_type": "code",
   "execution_count": 389,
   "metadata": {},
   "outputs": [],
   "source": [
    "data_parsed = copy.deepcopy(data)\n",
    "\n",
    "for entry in data_parsed:\n",
    "    entry['links'] = [url for url in entry['links'] if \"http\" in url]\n",
    "    #entry['links'] = list(set([urlparse(url).netloc for url in entry['links']]))\n",
    "    links_parsed = []\n",
    "    for url in entry['links']:\n",
    "        try:\n",
    "            url = urlparse(url).netloc\n",
    "        except:\n",
    "            url = url\n",
    "        links_parsed.append(url)\n",
    "    entry['links'] = list(set(links_parsed))\n",
    "    entry['url'] = urlparse(entry['url']).netloc\n",
    "    entry['links'] = [url for url in entry['links'] if url != entry['url']]"
   ]
  },
  {
   "cell_type": "code",
   "execution_count": 390,
   "metadata": {},
   "outputs": [],
   "source": [
    "df = pd.DataFrame.from_records(data_parsed)"
   ]
  },
  {
   "cell_type": "code",
   "execution_count": 391,
   "metadata": {},
   "outputs": [],
   "source": [
    "df_kw = df.explode('keywords_matched')\n",
    "df_kw['keywords_matched'] = df_kw['keywords_matched'].str.strip()"
   ]
  },
  {
   "cell_type": "code",
   "execution_count": 392,
   "metadata": {},
   "outputs": [],
   "source": [
    "exclude_kw = ['social media', 'government', 'participatory', 'youtube', 'nongovernmental organizations', 'notifications']\n",
    "df_kw = df_kw.loc[~df_kw['keywords_matched'].isin(exclude_kw), :]"
   ]
  },
  {
   "cell_type": "code",
   "execution_count": 393,
   "metadata": {},
   "outputs": [
    {
     "data": {
      "text/html": [
       "<div>\n",
       "<style scoped>\n",
       "    .dataframe tbody tr th:only-of-type {\n",
       "        vertical-align: middle;\n",
       "    }\n",
       "\n",
       "    .dataframe tbody tr th {\n",
       "        vertical-align: top;\n",
       "    }\n",
       "\n",
       "    .dataframe thead th {\n",
       "        text-align: right;\n",
       "    }\n",
       "</style>\n",
       "<table border=\"1\" class=\"dataframe\">\n",
       "  <thead>\n",
       "    <tr style=\"text-align: right;\">\n",
       "      <th></th>\n",
       "      <th>url</th>\n",
       "      <th>links</th>\n",
       "      <th>date-of-access</th>\n",
       "      <th>keywords_matched</th>\n",
       "    </tr>\n",
       "  </thead>\n",
       "  <tbody>\n",
       "    <tr>\n",
       "      <th>0</th>\n",
       "      <td>drmkc.jrc.ec.europa.eu</td>\n",
       "      <td>[europa.eu, ec.europa.eu]</td>\n",
       "      <td>2021-02-18</td>\n",
       "      <td>publicly available</td>\n",
       "    </tr>\n",
       "    <tr>\n",
       "      <th>8</th>\n",
       "      <td>drmkc.jrc.ec.europa.eu</td>\n",
       "      <td>[www.oecd.org, www.undrr.org, media.ifrc.org, ...</td>\n",
       "      <td>2021-02-18</td>\n",
       "      <td>agriculture</td>\n",
       "    </tr>\n",
       "    <tr>\n",
       "      <th>9</th>\n",
       "      <td>drmkc.jrc.ec.europa.eu</td>\n",
       "      <td>[europa.eu, ec.europa.eu, apps.who.int, www.wh...</td>\n",
       "      <td>2021-02-18</td>\n",
       "      <td>publicly available</td>\n",
       "    </tr>\n",
       "    <tr>\n",
       "      <th>10</th>\n",
       "      <td>drmkc.jrc.ec.europa.eu</td>\n",
       "      <td>[europa.eu, ec.europa.eu, effis.jrc.ec.europa....</td>\n",
       "      <td>2021-02-18</td>\n",
       "      <td>lidar</td>\n",
       "    </tr>\n",
       "    <tr>\n",
       "      <th>16</th>\n",
       "      <td>drmkc.jrc.ec.europa.eu</td>\n",
       "      <td>[europa.eu, ec.europa.eu]</td>\n",
       "      <td>2021-02-18</td>\n",
       "      <td>publicly available</td>\n",
       "    </tr>\n",
       "  </tbody>\n",
       "</table>\n",
       "</div>"
      ],
      "text/plain": [
       "                       url                                              links  \\\n",
       "0   drmkc.jrc.ec.europa.eu                          [europa.eu, ec.europa.eu]   \n",
       "8   drmkc.jrc.ec.europa.eu  [www.oecd.org, www.undrr.org, media.ifrc.org, ...   \n",
       "9   drmkc.jrc.ec.europa.eu  [europa.eu, ec.europa.eu, apps.who.int, www.wh...   \n",
       "10  drmkc.jrc.ec.europa.eu  [europa.eu, ec.europa.eu, effis.jrc.ec.europa....   \n",
       "16  drmkc.jrc.ec.europa.eu                          [europa.eu, ec.europa.eu]   \n",
       "\n",
       "   date-of-access    keywords_matched  \n",
       "0      2021-02-18  publicly available  \n",
       "8      2021-02-18         agriculture  \n",
       "9      2021-02-18  publicly available  \n",
       "10     2021-02-18               lidar  \n",
       "16     2021-02-18  publicly available  "
      ]
     },
     "execution_count": 393,
     "metadata": {},
     "output_type": "execute_result"
    }
   ],
   "source": [
    "df_kw.head()"
   ]
  },
  {
   "cell_type": "code",
   "execution_count": 394,
   "metadata": {},
   "outputs": [],
   "source": [
    "df_nw = df_kw.explode('links').loc[:, ['url', 'links']]\n",
    "df_nw = df_nw.drop_duplicates().reset_index(drop = True)\n",
    "df_nw = df_nw.loc[(df_nw['links'].notna()) & (df_nw['url'] != \"\") & (df_nw['links'] != \"https:\") & (df_nw['links'] != \"http:\"), :]\n",
    "\n",
    "drop_url = ['twitter.com', 'm.facebook.com']\n",
    "drop_links_manual = ['twitter', 'facebook', 'youtube', 'google', 'nature.com', 'zoom.us', 'goo.gl', 'bit.ly', 'flcikr', 't.co', 'medium.com', 'github', 'tandfonline', 'linkedin', 'bbc.co.uk', 'news24.com', 'vimeo', 'dx.doi.org']\n",
    "drop_links = list(df_nw['links'].value_counts()[df_nw['links'].value_counts() == 1].index)\n",
    "\n",
    "df_nw = df_nw.loc[~((df_nw['url'].isin(drop_url)) | (df_nw['links'].isin(drop_links)) | (df_nw['links'].apply(lambda link: any([drop_link in link for drop_link in drop_links_manual])))), :]"
   ]
  },
  {
   "cell_type": "code",
   "execution_count": 395,
   "metadata": {},
   "outputs": [
    {
     "data": {
      "text/plain": [
       "(85, 2)"
      ]
     },
     "execution_count": 395,
     "metadata": {},
     "output_type": "execute_result"
    }
   ],
   "source": [
    "df_nw.shape"
   ]
  },
  {
   "cell_type": "code",
   "execution_count": 396,
   "metadata": {},
   "outputs": [
    {
     "data": {
      "text/html": [
       "<div>\n",
       "<style scoped>\n",
       "    .dataframe tbody tr th:only-of-type {\n",
       "        vertical-align: middle;\n",
       "    }\n",
       "\n",
       "    .dataframe tbody tr th {\n",
       "        vertical-align: top;\n",
       "    }\n",
       "\n",
       "    .dataframe thead th {\n",
       "        text-align: right;\n",
       "    }\n",
       "</style>\n",
       "<table border=\"1\" class=\"dataframe\">\n",
       "  <thead>\n",
       "    <tr style=\"text-align: right;\">\n",
       "      <th></th>\n",
       "      <th>url</th>\n",
       "      <th>links</th>\n",
       "    </tr>\n",
       "  </thead>\n",
       "  <tbody>\n",
       "    <tr>\n",
       "      <th>0</th>\n",
       "      <td>drmkc.jrc.ec.europa.eu</td>\n",
       "      <td>europa.eu</td>\n",
       "    </tr>\n",
       "    <tr>\n",
       "      <th>1</th>\n",
       "      <td>drmkc.jrc.ec.europa.eu</td>\n",
       "      <td>ec.europa.eu</td>\n",
       "    </tr>\n",
       "    <tr>\n",
       "      <th>2</th>\n",
       "      <td>drmkc.jrc.ec.europa.eu</td>\n",
       "      <td>www.oecd.org</td>\n",
       "    </tr>\n",
       "    <tr>\n",
       "      <th>4</th>\n",
       "      <td>drmkc.jrc.ec.europa.eu</td>\n",
       "      <td>media.ifrc.org</td>\n",
       "    </tr>\n",
       "    <tr>\n",
       "      <th>9</th>\n",
       "      <td>drmkc.jrc.ec.europa.eu</td>\n",
       "      <td>www.unwomen.org</td>\n",
       "    </tr>\n",
       "  </tbody>\n",
       "</table>\n",
       "</div>"
      ],
      "text/plain": [
       "                      url            links\n",
       "0  drmkc.jrc.ec.europa.eu        europa.eu\n",
       "1  drmkc.jrc.ec.europa.eu     ec.europa.eu\n",
       "2  drmkc.jrc.ec.europa.eu     www.oecd.org\n",
       "4  drmkc.jrc.ec.europa.eu   media.ifrc.org\n",
       "9  drmkc.jrc.ec.europa.eu  www.unwomen.org"
      ]
     },
     "execution_count": 396,
     "metadata": {},
     "output_type": "execute_result"
    }
   ],
   "source": [
    "df_nw.head()"
   ]
  },
  {
   "cell_type": "code",
   "execution_count": 397,
   "metadata": {},
   "outputs": [
    {
     "name": "stdout",
     "output_type": "stream",
     "text": [
      "(22, 2)\n",
      "(1, 2)\n",
      "(1, 2)\n",
      "(3, 2)\n",
      "(16, 2)\n",
      "(38, 2)\n",
      "(4, 2)\n"
     ]
    }
   ],
   "source": [
    "for url in list(df_nw['url'].unique()):\n",
    "    print(df_nw.loc[df_nw['url'] == url].shape)"
   ]
  },
  {
   "cell_type": "code",
   "execution_count": 398,
   "metadata": {},
   "outputs": [],
   "source": [
    "outname = \"drr-nw_20210505.csv\"\n",
    "\n",
    "df_nw.to_csv(os.path.join(data_path, outname), index = False)"
   ]
  },
  {
   "cell_type": "code",
   "execution_count": 399,
   "metadata": {},
   "outputs": [],
   "source": [
    "# New links to scrape\n",
    "for entry in data:\n",
    "    entry['links'] = [url for url in entry['links'] if \"http\" in url]\n",
    "    \n",
    "exclude_kw = ['social media', 'government', 'participatory', 'youtube', 'nongovernmental organizations', 'notifications']\n",
    "drop_url = ['twitter.com', 'm.facebook.com']\n",
    "drop_links_manual = ['twitter', 'facebook', 'youtube', 'google', 'nature.com', 'zoom.us', 'goo.gl', 'bit.ly', 'flcikr', 't.co', 'medium.com', 'github', 'tandfonline', 'linkedin', 'bbc.co.uk', 'news24.com', 'vimeo', 'dx.doi.org']\n",
    "drop_domains = [url.replace(\"www.\", \"\") for url in list(df_nw['url'].unique())]\n",
    "drop_links = drop_links_manual + drop_domains\n",
    "\n",
    "df = pd.DataFrame.from_records(data)\n",
    "df['keywords_matched'] = df['keywords_matched'].apply(lambda kw_list: [kw.strip() for kw in kw_list])\n",
    "df = df.loc[~df['keywords_matched'].apply(lambda kws: any([kw in kws for kw in exclude_kw]))]\n",
    "df = df.explode('links')\n",
    "df = df.dropna(subset = ['links'])\n",
    "\n",
    "df = df.loc[~((df['url'].apply(lambda link: any([drop_link in link for drop_link in drop_url]))) | \n",
    "              (df['links'].apply(lambda link: any([drop_link in link for drop_link in drop_links])))), :].reset_index(drop = True)"
   ]
  },
  {
   "cell_type": "code",
   "execution_count": 400,
   "metadata": {},
   "outputs": [
    {
     "data": {
      "text/html": [
       "<div>\n",
       "<style scoped>\n",
       "    .dataframe tbody tr th:only-of-type {\n",
       "        vertical-align: middle;\n",
       "    }\n",
       "\n",
       "    .dataframe tbody tr th {\n",
       "        vertical-align: top;\n",
       "    }\n",
       "\n",
       "    .dataframe thead th {\n",
       "        text-align: right;\n",
       "    }\n",
       "</style>\n",
       "<table border=\"1\" class=\"dataframe\">\n",
       "  <thead>\n",
       "    <tr style=\"text-align: right;\">\n",
       "      <th></th>\n",
       "      <th>url</th>\n",
       "      <th>links</th>\n",
       "      <th>date-of-access</th>\n",
       "      <th>keywords_matched</th>\n",
       "    </tr>\n",
       "  </thead>\n",
       "  <tbody>\n",
       "    <tr>\n",
       "      <th>0</th>\n",
       "      <td>https://www.securityresearch-cou.eu/thethemes/...</td>\n",
       "      <td>https://ec.europa.eu/commission/index_en</td>\n",
       "      <td>2021-03-30</td>\n",
       "      <td>[situational awareness]</td>\n",
       "    </tr>\n",
       "    <tr>\n",
       "      <th>1</th>\n",
       "      <td>https://www.securityresearch-cou.eu/thethemes/...</td>\n",
       "      <td>https://ec.europa.eu/commission/index_en</td>\n",
       "      <td>2021-03-30</td>\n",
       "      <td>[lidar]</td>\n",
       "    </tr>\n",
       "    <tr>\n",
       "      <th>2</th>\n",
       "      <td>https://www.undrr.org/publications?field_publi...</td>\n",
       "      <td>https://www.unisdr.org/conference/2018/efdrr</td>\n",
       "      <td>2021-03-30</td>\n",
       "      <td>[agriculture]</td>\n",
       "    </tr>\n",
       "    <tr>\n",
       "      <th>3</th>\n",
       "      <td>https://www.undrr.org/publications?field_publi...</td>\n",
       "      <td>https://www.preventionweb.net/about/privacy</td>\n",
       "      <td>2021-03-30</td>\n",
       "      <td>[agriculture]</td>\n",
       "    </tr>\n",
       "    <tr>\n",
       "      <th>4</th>\n",
       "      <td>https://www.undrr.org/publications?field_publi...</td>\n",
       "      <td>https://www.unisdr.org/conference/2018/afrp-acdrr</td>\n",
       "      <td>2021-03-30</td>\n",
       "      <td>[agriculture]</td>\n",
       "    </tr>\n",
       "  </tbody>\n",
       "</table>\n",
       "</div>"
      ],
      "text/plain": [
       "                                                 url  \\\n",
       "0  https://www.securityresearch-cou.eu/thethemes/...   \n",
       "1  https://www.securityresearch-cou.eu/thethemes/...   \n",
       "2  https://www.undrr.org/publications?field_publi...   \n",
       "3  https://www.undrr.org/publications?field_publi...   \n",
       "4  https://www.undrr.org/publications?field_publi...   \n",
       "\n",
       "                                               links date-of-access  \\\n",
       "0           https://ec.europa.eu/commission/index_en     2021-03-30   \n",
       "1           https://ec.europa.eu/commission/index_en     2021-03-30   \n",
       "2       https://www.unisdr.org/conference/2018/efdrr     2021-03-30   \n",
       "3        https://www.preventionweb.net/about/privacy     2021-03-30   \n",
       "4  https://www.unisdr.org/conference/2018/afrp-acdrr     2021-03-30   \n",
       "\n",
       "          keywords_matched  \n",
       "0  [situational awareness]  \n",
       "1                  [lidar]  \n",
       "2            [agriculture]  \n",
       "3            [agriculture]  \n",
       "4            [agriculture]  "
      ]
     },
     "execution_count": 400,
     "metadata": {},
     "output_type": "execute_result"
    }
   ],
   "source": [
    "df.head()"
   ]
  },
  {
   "cell_type": "code",
   "execution_count": 401,
   "metadata": {},
   "outputs": [],
   "source": [
    "start_urls = list(df['links'].unique())\n",
    "\n",
    "outname = \"drr_new-links_20210505.txt\"\n",
    "with open(os.path.join(\"..\", 'materials', outname), 'w', encoding = 'utf-8') as f:\n",
    "    for url in start_urls:\n",
    "        f.write(url + \"\\n\")\n",
    "    f.close()"
   ]
  },
  {
   "cell_type": "code",
   "execution_count": 402,
   "metadata": {},
   "outputs": [
    {
     "data": {
      "text/plain": [
       "6538"
      ]
     },
     "execution_count": 402,
     "metadata": {},
     "output_type": "execute_result"
    }
   ],
   "source": [
    "len(start_urls)"
   ]
  }
 ],
 "metadata": {
  "kernelspec": {
   "display_name": "Python 3",
   "language": "python",
   "name": "python3"
  },
  "language_info": {
   "codemirror_mode": {
    "name": "ipython",
    "version": 3
   },
   "file_extension": ".py",
   "mimetype": "text/x-python",
   "name": "python",
   "nbconvert_exporter": "python",
   "pygments_lexer": "ipython3",
   "version": "3.7.9"
  }
 },
 "nbformat": 4,
 "nbformat_minor": 4
}
