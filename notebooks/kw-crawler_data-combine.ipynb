{
 "cells": [
  {
   "cell_type": "code",
   "execution_count": 2,
   "metadata": {},
   "outputs": [],
   "source": [
    "import os\n",
    "import json\n",
    "\n",
    "data_path = os.path.join(\"D:/\", \"data\", \"drmkc\")\n",
    "outname = \"drr-scrape_total_20210505.json\"\n",
    "\n",
    "filename = \"drmkc-scrape_20210218.json\"\n",
    "\n",
    "with open(os.path.join(data_path, filename), 'r') as f:\n",
    "    data = json.load(f)\n",
    "    f.close()\n",
    "    \n",
    "    \n",
    "filename = \"drr_scrape2021-03-30.json\"\n",
    "\n",
    "with open(os.path.join(data_path, filename), 'r') as f:\n",
    "    data = data + json.load(f)\n",
    "    f.close()\n",
    "    \n",
    "\n",
    "filename = \"drr_scrape2021-04-28.json\"\n",
    "\n",
    "with open(os.path.join(data_path, filename), 'r') as f:\n",
    "    data = data + json.load(f)\n",
    "    f.close()\n",
    "    \n",
    "\n",
    "with open(os.path.join(data_path, outname), 'w', encoding = 'utf-8') as f:\n",
    "    json.dump(data, f)"
   ]
  }
 ],
 "metadata": {
  "kernelspec": {
   "display_name": "Python 3",
   "language": "python",
   "name": "python3"
  },
  "language_info": {
   "codemirror_mode": {
    "name": "ipython",
    "version": 3
   },
   "file_extension": ".py",
   "mimetype": "text/x-python",
   "name": "python",
   "nbconvert_exporter": "python",
   "pygments_lexer": "ipython3",
   "version": "3.7.9"
  }
 },
 "nbformat": 4,
 "nbformat_minor": 4
}
